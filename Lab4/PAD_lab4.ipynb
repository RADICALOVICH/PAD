{
 "cells": [
  {
   "cell_type": "code",
   "execution_count": 196,
   "metadata": {
    "collapsed": true
   },
   "outputs": [],
   "source": [
    "import pandas as pd\n",
    "import numpy as np\n",
    "import re\n",
    "\n",
    "from nltk.corpus import stopwords\n",
    "\n",
    "from nltk.stem.snowball import SnowballStemmer\n",
    "from sklearn.feature_extraction.text import CountVectorizer\n",
    "from sklearn.feature_extraction.text import TfidfTransformer\n",
    "\n",
    "from sklearn.linear_model import LogisticRegression\n",
    "from sklearn.ensemble import RandomForestClassifier\n",
    "from sklearn.metrics import classification_report\n",
    "\n",
    "from pymystem3 import Mystem\n",
    "\n",
    "RANDOM_SEED = 42\n",
    "from sklearn.metrics import roc_auc_score"
   ]
  },
  {
   "cell_type": "code",
   "execution_count": 197,
   "outputs": [
    {
     "data": {
      "text/plain": "                                                    text     label  \\\n0      Помойму я вкрашилась в Чимина🤧 https://t.co/t2...  positive   \n5                          @buybread_ я не с порядке!!!!  negative   \n10     @ange1flyhigh В следующий раз буду до победног...  positive   \n15     @LimitaVIP Удивительный гiмн...\\r\\nУдивительно...  negative   \n17                               я срала на эту биологию  negative   \n...                                                  ...       ...   \n10704  Дедрадио5 то есть ты хочешь сказать, что ты ла...  negative   \n10705  @kmoo_m ДЕЙСТВИТЕЛЬНО\\r\\nесли любовь, то тольк...  positive   \n10708  С Хоби утро может быть только добрым😂 https://...  positive   \n10711  Не успела встать, а уже заебалась, впрочем нич...  negative   \n10712  ах твиттер ивана урганта, а ведь всё так хорош...  negative   \n\n                        id  \n0      1282311169534038016  \n5      1335130757044563971  \n10     1215370396465291267  \n15     1253799540848762887  \n17     1339418979887173632  \n...                    ...  \n10704  1315037255833092098  \n10705  1323606772578459648  \n10708  1310485706213666816  \n10711  1343031810746425344  \n10712  1266838461778100226  \n\n[4569 rows x 3 columns]",
      "text/html": "<div>\n<style scoped>\n    .dataframe tbody tr th:only-of-type {\n        vertical-align: middle;\n    }\n\n    .dataframe tbody tr th {\n        vertical-align: top;\n    }\n\n    .dataframe thead th {\n        text-align: right;\n    }\n</style>\n<table border=\"1\" class=\"dataframe\">\n  <thead>\n    <tr style=\"text-align: right;\">\n      <th></th>\n      <th>text</th>\n      <th>label</th>\n      <th>id</th>\n    </tr>\n  </thead>\n  <tbody>\n    <tr>\n      <th>0</th>\n      <td>Помойму я вкрашилась в Чимина🤧 https://t.co/t2...</td>\n      <td>positive</td>\n      <td>1282311169534038016</td>\n    </tr>\n    <tr>\n      <th>5</th>\n      <td>@buybread_ я не с порядке!!!!</td>\n      <td>negative</td>\n      <td>1335130757044563971</td>\n    </tr>\n    <tr>\n      <th>10</th>\n      <td>@ange1flyhigh В следующий раз буду до победног...</td>\n      <td>positive</td>\n      <td>1215370396465291267</td>\n    </tr>\n    <tr>\n      <th>15</th>\n      <td>@LimitaVIP Удивительный гiмн...\\r\\nУдивительно...</td>\n      <td>negative</td>\n      <td>1253799540848762887</td>\n    </tr>\n    <tr>\n      <th>17</th>\n      <td>я срала на эту биологию</td>\n      <td>negative</td>\n      <td>1339418979887173632</td>\n    </tr>\n    <tr>\n      <th>...</th>\n      <td>...</td>\n      <td>...</td>\n      <td>...</td>\n    </tr>\n    <tr>\n      <th>10704</th>\n      <td>Дедрадио5 то есть ты хочешь сказать, что ты ла...</td>\n      <td>negative</td>\n      <td>1315037255833092098</td>\n    </tr>\n    <tr>\n      <th>10705</th>\n      <td>@kmoo_m ДЕЙСТВИТЕЛЬНО\\r\\nесли любовь, то тольк...</td>\n      <td>positive</td>\n      <td>1323606772578459648</td>\n    </tr>\n    <tr>\n      <th>10708</th>\n      <td>С Хоби утро может быть только добрым😂 https://...</td>\n      <td>positive</td>\n      <td>1310485706213666816</td>\n    </tr>\n    <tr>\n      <th>10711</th>\n      <td>Не успела встать, а уже заебалась, впрочем нич...</td>\n      <td>negative</td>\n      <td>1343031810746425344</td>\n    </tr>\n    <tr>\n      <th>10712</th>\n      <td>ах твиттер ивана урганта, а ведь всё так хорош...</td>\n      <td>negative</td>\n      <td>1266838461778100226</td>\n    </tr>\n  </tbody>\n</table>\n<p>4569 rows × 3 columns</p>\n</div>"
     },
     "execution_count": 197,
     "metadata": {},
     "output_type": "execute_result"
    }
   ],
   "source": [
    "df_train = pd.read_csv('rusentitweet_train.csv')\n",
    "df_test = pd.read_csv('rusentitweet_test.csv')\n",
    "\n",
    "#оставляем только label = positive/negative\n",
    "df_train = df_train[df_train['label'].isin(['positive', 'negative'])]\n",
    "df_test = df_test[df_test['label'].isin(['positive', 'negative'])]\n",
    "df_train"
   ],
   "metadata": {
    "collapsed": false
   }
  },
  {
   "cell_type": "code",
   "execution_count": 198,
   "outputs": [],
   "source": [
    "russian_stopwords = stopwords.words(\"russian\")\n",
    "\n",
    "def clean_tweet(tweet):\n",
    "    tweet = re.sub(r'http\\S+', '', tweet)   # Удаление ссылок\n",
    "    tweet = re.sub(r'@\\w+', '', tweet)      # Удаление упоминаний пользователей\n",
    "    tweet = re.sub(r'#\\w+', '', tweet)      # Удаление хештегов\n",
    "    tweet = re.sub(r'\\d+', '', tweet)       # Удаление чисел\n",
    "    tweet = re.sub(r'[^\\w\\s]', '', tweet)   # Удаление пунктуации\n",
    "    tweet = re.sub(r'[a-zA-Z]+', '', tweet) # Удаление слов на латинице\n",
    "    tweet = re.sub(r'[^\\w\\s,]', '', tweet)  # Удаление эмодзи\n",
    "    tweet = tweet.lower()                   # Приведение к нижнему регистру\n",
    "    tweet = \" \".join([word for word in tweet.split() if word not in russian_stopwords]) # Удаление стоп-слов\n",
    "    tweet = re.sub(r'\\s+', ' ', tweet).strip() # Удаление лишних пробелов\n",
    "    tweet = re.sub(r'\\b\\w\\b', '', tweet)   # Удаление слов из одной буквы\n",
    "    return tweet\n",
    "\n",
    "# Применение функции очистки к каждому твиту в наборах данных\n",
    "df_train['text'] = df_train['text'].apply(clean_tweet)\n",
    "df_test['text'] = df_test['text'].apply(clean_tweet)\n",
    "\n",
    "# Применение функции очистки к каждому твиту в наборах данных\n",
    "df_train['text'] = df_train['text'].apply(clean_tweet)\n",
    "df_test['text'] = df_test['text'].apply(clean_tweet)\n",
    "\n",
    "# Удаление пустых твитов\n",
    "df_train = df_train[df_train['text'].str.strip().astype(bool)]\n",
    "df_test = df_test[df_test['text'].str.strip().astype(bool)]"
   ],
   "metadata": {
    "collapsed": false
   }
  },
  {
   "cell_type": "code",
   "execution_count": 199,
   "outputs": [
    {
     "data": {
      "text/plain": "                                                    text     label  \\\n0                                     помойм вкраш чимин  positive   \n5                                                 порядк  negative   \n10                   след буд победн закрыва пожела удач  positive   \n15         удивительн гмн удивительн пок ещ сдохл украин  negative   \n17                                           срал биолог  negative   \n...                                                  ...       ...   \n10704  дедрад хочеш сказа лайка мо твит пздц удаля отсюд  negative   \n10705                             действительн любов так  positive   \n10708                                       хоб утр добр  positive   \n10711                              успел встат заеба нов  negative   \n10712        ах твиттер ива ургант все начина все потеря  negative   \n\n                        id  \n0      1282311169534038016  \n5      1335130757044563971  \n10     1215370396465291267  \n15     1253799540848762887  \n17     1339418979887173632  \n...                    ...  \n10704  1315037255833092098  \n10705  1323606772578459648  \n10708  1310485706213666816  \n10711  1343031810746425344  \n10712  1266838461778100226  \n\n[4536 rows x 3 columns]",
      "text/html": "<div>\n<style scoped>\n    .dataframe tbody tr th:only-of-type {\n        vertical-align: middle;\n    }\n\n    .dataframe tbody tr th {\n        vertical-align: top;\n    }\n\n    .dataframe thead th {\n        text-align: right;\n    }\n</style>\n<table border=\"1\" class=\"dataframe\">\n  <thead>\n    <tr style=\"text-align: right;\">\n      <th></th>\n      <th>text</th>\n      <th>label</th>\n      <th>id</th>\n    </tr>\n  </thead>\n  <tbody>\n    <tr>\n      <th>0</th>\n      <td>помойм вкраш чимин</td>\n      <td>positive</td>\n      <td>1282311169534038016</td>\n    </tr>\n    <tr>\n      <th>5</th>\n      <td>порядк</td>\n      <td>negative</td>\n      <td>1335130757044563971</td>\n    </tr>\n    <tr>\n      <th>10</th>\n      <td>след буд победн закрыва пожела удач</td>\n      <td>positive</td>\n      <td>1215370396465291267</td>\n    </tr>\n    <tr>\n      <th>15</th>\n      <td>удивительн гмн удивительн пок ещ сдохл украин</td>\n      <td>negative</td>\n      <td>1253799540848762887</td>\n    </tr>\n    <tr>\n      <th>17</th>\n      <td>срал биолог</td>\n      <td>negative</td>\n      <td>1339418979887173632</td>\n    </tr>\n    <tr>\n      <th>...</th>\n      <td>...</td>\n      <td>...</td>\n      <td>...</td>\n    </tr>\n    <tr>\n      <th>10704</th>\n      <td>дедрад хочеш сказа лайка мо твит пздц удаля отсюд</td>\n      <td>negative</td>\n      <td>1315037255833092098</td>\n    </tr>\n    <tr>\n      <th>10705</th>\n      <td>действительн любов так</td>\n      <td>positive</td>\n      <td>1323606772578459648</td>\n    </tr>\n    <tr>\n      <th>10708</th>\n      <td>хоб утр добр</td>\n      <td>positive</td>\n      <td>1310485706213666816</td>\n    </tr>\n    <tr>\n      <th>10711</th>\n      <td>успел встат заеба нов</td>\n      <td>negative</td>\n      <td>1343031810746425344</td>\n    </tr>\n    <tr>\n      <th>10712</th>\n      <td>ах твиттер ива ургант все начина все потеря</td>\n      <td>negative</td>\n      <td>1266838461778100226</td>\n    </tr>\n  </tbody>\n</table>\n<p>4536 rows × 3 columns</p>\n</div>"
     },
     "execution_count": 199,
     "metadata": {},
     "output_type": "execute_result"
    }
   ],
   "source": [
    "# Инициализируем стеммер для русского языка\n",
    "stemmer = SnowballStemmer(\"russian\")\n",
    "\n",
    "def stem_tweet(tweet):\n",
    "    # Разделяем твит на слова\n",
    "    words = tweet.split()\n",
    "    # Применяем стемминг к каждому слову\n",
    "    stemmed_words = [stemmer.stem(word) for word in words]\n",
    "    # Собираем обратно в строку\n",
    "    return ' '.join(stemmed_words)\n",
    "\n",
    "df_train_stem = df_train.copy()\n",
    "df_test_stem = df_test.copy()\n",
    "\n",
    "# Применяем функцию стемминга к каждому твиту\n",
    "df_train_stem['text'] = df_train_stem['text'].apply(stem_tweet)\n",
    "df_test_stem['text'] = df_test_stem['text'].apply(stem_tweet)\n",
    "\n",
    "df_train_stem"
   ],
   "metadata": {
    "collapsed": false
   }
  },
  {
   "cell_type": "code",
   "execution_count": 200,
   "outputs": [],
   "source": [
    "# Инициализация CountVectorizer\n",
    "vectorizer = CountVectorizer()\n",
    "\n",
    "# Обучение на тренировочных данных и преобразование их в мешок слов\n",
    "X_train = vectorizer.fit_transform(df_train_stem['text'])\n",
    "\n",
    "# Преобразование тестовых данных в мешок слов\n",
    "X_test = vectorizer.transform(df_test_stem['text'])"
   ],
   "metadata": {
    "collapsed": false
   }
  },
  {
   "cell_type": "code",
   "execution_count": 201,
   "outputs": [],
   "source": [
    "# Создание объекта tf-idf transformer\n",
    "tfidf_transformer = TfidfTransformer()\n",
    "\n",
    "# Обучение на тренировочных данных и преобразование их\n",
    "X_train_tfidf = tfidf_transformer.fit_transform(X_train)\n",
    "\n",
    "# Преобразование тестовых данных\n",
    "X_test_tfidf = tfidf_transformer.transform(X_test)"
   ],
   "metadata": {
    "collapsed": false
   }
  },
  {
   "cell_type": "code",
   "execution_count": 202,
   "outputs": [
    {
     "name": "stdout",
     "output_type": "stream",
     "text": [
      "Логистическая регрессия:\n",
      "               precision    recall  f1-score   support\n",
      "\n",
      "    negative       0.73      0.93      0.82       656\n",
      "    positive       0.84      0.54      0.66       477\n",
      "\n",
      "    accuracy                           0.76      1133\n",
      "   macro avg       0.79      0.73      0.74      1133\n",
      "weighted avg       0.78      0.76      0.75      1133\n",
      "\n",
      "Случайный лес:\n",
      "               precision    recall  f1-score   support\n",
      "\n",
      "    negative       0.73      0.88      0.80       656\n",
      "    positive       0.77      0.55      0.64       477\n",
      "\n",
      "    accuracy                           0.74      1133\n",
      "   macro avg       0.75      0.72      0.72      1133\n",
      "weighted avg       0.75      0.74      0.73      1133\n",
      "\n",
      "ROC_AUC_SCORE логистическая регрессия c эмодзи:\n",
      " 0.7320444725673672\n"
     ]
    }
   ],
   "source": [
    "# Создание модели логистической регрессии\n",
    "logreg = LogisticRegression(random_state=RANDOM_SEED)\n",
    "logreg.fit(X_train_tfidf, df_train['label'])\n",
    "\n",
    "# Создание модели случайного леса\n",
    "rf = RandomForestClassifier(random_state=RANDOM_SEED)\n",
    "rf.fit(X_train_tfidf, df_train['label'])\n",
    "\n",
    "# Предсказание на тестовых данных\n",
    "logreg_pred = logreg.predict(X_test_tfidf)\n",
    "rf_pred = rf.predict(X_test_tfidf)\n",
    "\n",
    "# Оценка результатов\n",
    "print(\"Логистическая регрессия:\\n\", classification_report(df_test['label'], logreg_pred))\n",
    "print(\"Случайный лес:\\n\", classification_report(df_test['label'], rf_pred))\n",
    "\n",
    "\n",
    "\n",
    "# Convert labels in df_test_lem to numeric\n",
    "numeric_labels = [0 if label == 'negative' else 1 for label in df_test_stem['label']]\n",
    "\n",
    "# Convert predictions in logreg_pred_lem to numeric\n",
    "numeric_predictions = [0 if pred == 'negative' else 1 for pred in logreg_pred]\n",
    "\n",
    "roc_auc = roc_auc_score(numeric_labels, numeric_predictions)\n",
    "print(\"ROC_AUC_SCORE логистическая регрессия c эмодзи:\\n\", roc_auc)\n",
    "logreg_pred.shape()"
   ],
   "metadata": {
    "collapsed": false
   }
  },
  {
   "cell_type": "code",
   "execution_count": 203,
   "outputs": [
    {
     "name": "stdout",
     "output_type": "stream",
     "text": [
      "Наиболее важные положительные слова для логистической регрессии:\n",
      "любл красив прекрасн лучш мил классн крут нрав ва рад\n",
      "Наиболее важные отрицательные слова для логистической регрессии:\n",
      "блят пиздец нах сук хуйн вообщ заеба ненавиж грустн ужасн\n",
      "Наиболее важные слова для случайного леса:\n",
      "любл красив блят прекрасн крут лучш мил эт классн пиздец нрав хорош рад ва хоч сук очен любим обожа нах\n"
     ]
    }
   ],
   "source": [
    "# Для логистической регрессии\n",
    "feature_names = vectorizer.get_feature_names_out()\n",
    "logreg_coef = logreg.coef_[0]\n",
    "sorted_features = sorted(zip(logreg_coef, feature_names), reverse=True)\n",
    "print(\"Наиболее важные положительные слова для логистической регрессии:\")\n",
    "sorted_words = [word for coef, word in sorted_features]\n",
    "sorted_words_string = ' '.join(sorted_words[:10])\n",
    "print(sorted_words_string)\n",
    "\n",
    "sorted_features = sorted(zip(logreg_coef, feature_names))\n",
    "print(\"Наиболее важные отрицательные слова для логистической регрессии:\")\n",
    "sorted_words = [word for coef, word in sorted_features]\n",
    "sorted_words_string = ' '.join(sorted_words[:10])\n",
    "print(sorted_words_string)\n",
    "\n",
    "# Для случайного леса\n",
    "rf_importances = rf.feature_importances_\n",
    "# Получаем индексы наиболее важных признаков в порядке убывания их важности\n",
    "sorted_indices = np.argsort(rf_importances)[::-1]\n",
    "# Извлекаем соответствующие слова\n",
    "top_words = [feature_names[i] for i in sorted_indices[:20]]\n",
    "# Преобразуем список слов в строку, разделяя слова пробелами\n",
    "top_words_string = ' '.join(top_words)\n",
    "print(\"Наиболее важные слова для случайного леса:\")\n",
    "print(top_words_string)"
   ],
   "metadata": {
    "collapsed": false
   }
  },
  {
   "cell_type": "code",
   "execution_count": 204,
   "outputs": [],
   "source": [
    "# Инициализируем Mystem\n",
    "mystem = Mystem()\n",
    "\n",
    "def lemmatize_text(text):\n",
    "    # Применяем лемматизацию к тексту и объединяем обратно в строку\n",
    "    lemmas = mystem.lemmatize(text)\n",
    "    return ''.join(lemmas).strip()\n",
    "\n",
    "df_train_lem = df_train.copy()\n",
    "df_test_lem = df_test.copy()\n",
    "\n",
    "# Применяем функцию лемматизации к столбцу с текстом в DataFrame\n",
    "df_train_lem['text'] = df_train_lem['text'].apply(lemmatize_text)\n",
    "df_test_lem['text'] = df_test_lem['text'].apply(lemmatize_text)"
   ],
   "metadata": {
    "collapsed": false
   }
  },
  {
   "cell_type": "code",
   "execution_count": 205,
   "outputs": [],
   "source": [
    "# Инициализация CountVectorizer\n",
    "vectorizer = CountVectorizer()\n",
    "\n",
    "# Обучение на тренировочных данных и преобразование их в мешок слов\n",
    "X_train_lem = vectorizer.fit_transform(df_train_lem['text'])\n",
    "\n",
    "# Преобразование тестовых данных в мешок слов\n",
    "X_test_lem = vectorizer.transform(df_test_lem['text'])"
   ],
   "metadata": {
    "collapsed": false
   }
  },
  {
   "cell_type": "code",
   "execution_count": 206,
   "outputs": [],
   "source": [
    "# Создание объекта tf-idf transformer\n",
    "tfidf_transformer = TfidfTransformer()\n",
    "\n",
    "# Обучение на тренировочных данных и преобразование их\n",
    "X_train_tfidf_lem = tfidf_transformer.fit_transform(X_train_lem)\n",
    "\n",
    "# Преобразование тестовых данных\n",
    "X_test_tfidf_lem = tfidf_transformer.transform(X_test_lem)"
   ],
   "metadata": {
    "collapsed": false
   }
  },
  {
   "cell_type": "code",
   "execution_count": 207,
   "outputs": [
    {
     "name": "stdout",
     "output_type": "stream",
     "text": [
      "Логистическая регрессия:\n",
      "               precision    recall  f1-score   support\n",
      "\n",
      "    negative       0.74      0.92      0.82       656\n",
      "    positive       0.84      0.56      0.67       477\n",
      "\n",
      "    accuracy                           0.77      1133\n",
      "   macro avg       0.79      0.74      0.75      1133\n",
      "weighted avg       0.79      0.77      0.76      1133\n",
      "\n",
      "Случайный лес:\n",
      "               precision    recall  f1-score   support\n",
      "\n",
      "    negative       0.73      0.87      0.79       656\n",
      "    positive       0.76      0.55      0.63       477\n",
      "\n",
      "    accuracy                           0.74      1133\n",
      "   macro avg       0.74      0.71      0.71      1133\n",
      "weighted avg       0.74      0.74      0.73      1133\n",
      "\n",
      "ROC_AUC_SCORE логистическая регрессия без эмодзи:\n",
      " 0.7428126757682671\n"
     ]
    }
   ],
   "source": [
    "# Создание модели логистической регрессии\n",
    "logreg = LogisticRegression(random_state=RANDOM_SEED)\n",
    "logreg.fit(X_train_tfidf_lem, df_train_lem['label'])\n",
    "\n",
    "# Создание модели случайного леса\n",
    "rf = RandomForestClassifier(random_state=RANDOM_SEED)\n",
    "rf.fit(X_train_tfidf_lem, df_train_lem['label'])\n",
    "\n",
    "# Предсказание на тестовых данных\n",
    "logreg_pred_lem = logreg.predict(X_test_tfidf_lem)\n",
    "rf_pred_lem = rf.predict(X_test_tfidf_lem)\n",
    "\n",
    "# Оценка результатов\n",
    "print(\"Логистическая регрессия:\\n\", classification_report(df_test_lem['label'], logreg_pred_lem))\n",
    "print(\"Случайный лес:\\n\", classification_report(df_test_lem['label'], rf_pred_lem))\n",
    "\n",
    "# Convert labels in df_test_lem to numeric\n",
    "numeric_labels = [0 if label == 'negative' else 1 for label in df_test_lem['label']]\n",
    "\n",
    "# Convert predictions in logreg_pred_lem to numeric\n",
    "numeric_predictions = [0 if pred == 'negative' else 1 for pred in logreg_pred_lem]\n",
    "\n",
    "roc_auc = roc_auc_score(numeric_labels, numeric_predictions)\n",
    "print(\"ROC_AUC_SCORE логистическая регрессия без эмодзи:\\n\", roc_auc)"
   ],
   "metadata": {
    "collapsed": false
   }
  },
  {
   "cell_type": "code",
   "execution_count": 208,
   "outputs": [
    {
     "name": "stdout",
     "output_type": "stream",
     "text": [
      "Наиболее важные положительные слова для логистической регрессии:\n",
      "любить хороший красивый милый прекрасный классный вау нравиться крутой любовь\n",
      "Наиболее важные отрицательные слова для логистической регрессии:\n",
      "блять пиздец нахуй сука умирать вообще хуйня ненавидеть уходить сдыхать\n",
      "Наиболее важные слова для случайного леса:\n",
      "любить хороший блять красивый это пиздец нравиться вау прекрасный хотеть любовь милый классный крутой самый очень вообще красиво умирать рад\n"
     ]
    }
   ],
   "source": [
    "# Для логистической регрессии\n",
    "feature_names = vectorizer.get_feature_names_out()\n",
    "logreg_coef = logreg.coef_[0]\n",
    "sorted_features = sorted(zip(logreg_coef, feature_names), reverse=True)\n",
    "print(\"Наиболее важные положительные слова для логистической регрессии:\")\n",
    "sorted_words = [word for coef, word in sorted_features]\n",
    "sorted_words_string = ' '.join(sorted_words[:10])\n",
    "print(sorted_words_string)\n",
    "\n",
    "sorted_features = sorted(zip(logreg_coef, feature_names))\n",
    "print(\"Наиболее важные отрицательные слова для логистической регрессии:\")\n",
    "sorted_words = [word for coef, word in sorted_features]\n",
    "sorted_words_string = ' '.join(sorted_words[:10])\n",
    "print(sorted_words_string)\n",
    "\n",
    "# Для случайного леса\n",
    "rf_importances = rf.feature_importances_\n",
    "# Получаем индексы наиболее важных признаков в порядке убывания их важности\n",
    "sorted_indices = np.argsort(rf_importances)[::-1]\n",
    "# Извлекаем соответствующие слова\n",
    "top_words = [feature_names[i] for i in sorted_indices[:20]]\n",
    "# Преобразуем список слов в строку, разделяя слова пробелами\n",
    "top_words_string = ' '.join(top_words)\n",
    "print(\"Наиболее важные слова для случайного леса:\")\n",
    "print(top_words_string)"
   ],
   "metadata": {
    "collapsed": false
   }
  },
  {
   "cell_type": "code",
   "execution_count": 208,
   "outputs": [],
   "source": [],
   "metadata": {
    "collapsed": false
   }
  }
 ],
 "metadata": {
  "kernelspec": {
   "display_name": "Python 3",
   "language": "python",
   "name": "python3"
  },
  "language_info": {
   "codemirror_mode": {
    "name": "ipython",
    "version": 2
   },
   "file_extension": ".py",
   "mimetype": "text/x-python",
   "name": "python",
   "nbconvert_exporter": "python",
   "pygments_lexer": "ipython2",
   "version": "2.7.6"
  }
 },
 "nbformat": 4,
 "nbformat_minor": 0
}
